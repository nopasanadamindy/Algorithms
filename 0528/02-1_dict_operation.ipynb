{
 "cells": [
  {
   "cell_type": "code",
   "execution_count": 12,
   "metadata": {},
   "outputs": [],
   "source": [
    "ssafy = {\n",
    "    'location': ['서울', '대전', '구미', '광주'],\n",
    "    'language': {\n",
    "        'python': {\n",
    "            'python standard library': ['os', 'random', 'webbrowser'],\n",
    "            'frameworks': {\n",
    "                'flask': 'micro',\n",
    "                'django': 'full-functioning'\n",
    "            },\n",
    "            'data_science': ['numpy', 'pandas', 'scipy', 'sklearn'],\n",
    "            'scraping': ['requests', 'bs4'],\n",
    "        },\n",
    "        'web' : ['HTML', 'CSS']\n",
    "    },\n",
    "    'classes': {\n",
    "        'gm': {\n",
    "            'lecturer': 'justin',\n",
    "            'manager': '김아름',\n",
    "            'class president': '박지은',\n",
    "            'groups': {\n",
    "                'A': ['이상준', '김민지', '이종우', '강성묵', '박현수'],\n",
    "                'B': ['홍세진', '이지훈', '주재성', '김태인', '문종혁'],\n",
    "                'C': ['유수정', '신경제', '김영주', '임준성'],\n",
    "                'D': ['유건우', '홍영주', '임창묵', '양진엽'],\n",
    "                'E': ['김지영', '도정우', '황영준', '안시경', '황신실']\n",
    "            }\n",
    "        },\n",
    "        'gj': {\n",
    "            'lecturer': 'change',\n",
    "            'manager': 'pro-gj'\n",
    "        }\n",
    "    }\n",
    "}"
   ]
  },
  {
   "cell_type": "code",
   "execution_count": 60,
   "metadata": {},
   "outputs": [
    {
     "name": "stdout",
     "output_type": "stream",
     "text": [
      "4\n"
     ]
    },
    {
     "data": {
      "text/plain": [
       "4"
      ]
     },
     "execution_count": 60,
     "metadata": {},
     "output_type": "execute_result"
    }
   ],
   "source": [
    "\"\"\"\n",
    "난이도* 1. 지역(location)은 몇 개 있나요?\n",
    "출력예시)\n",
    "4\n",
    "\"\"\"\n",
    "print(len(ssafy.get('location')))\n",
    "\n",
    "len(ssafy['location'])"
   ]
  },
  {
   "cell_type": "code",
   "execution_count": 64,
   "metadata": {},
   "outputs": [
    {
     "name": "stdout",
     "output_type": "stream",
     "text": [
      "False\n",
      "False\n"
     ]
    }
   ],
   "source": [
    "\"\"\"\n",
    "난이도** 2. python standard library에 'requests'가 있나요?\n",
    "출력예시)\n",
    "False\n",
    "\"\"\"\n",
    "print('requests' in ssafy.get('language').get('python').get('python standard library'))\n",
    "\n",
    "print('requests' in ssafy['language']['python']['python standard library'])"
   ]
  },
  {
   "cell_type": "code",
   "execution_count": 65,
   "metadata": {},
   "outputs": [
    {
     "name": "stdout",
     "output_type": "stream",
     "text": [
      "박지은\n",
      "박지은\n"
     ]
    }
   ],
   "source": [
    "\"\"\"\n",
    "난이도** 3. gm 반의 반장의 이름을 출력하세요.\n",
    "출력예시)\n",
    "박지은\n",
    "\"\"\"\n",
    "print(ssafy.get('classes').get('gm').get('class president'))\n",
    "print(ssafy['classes']['gm']['class president'])"
   ]
  },
  {
   "cell_type": "code",
   "execution_count": 68,
   "metadata": {},
   "outputs": [
    {
     "name": "stdout",
     "output_type": "stream",
     "text": [
      "python\n",
      "web\n",
      "python\n",
      "web\n"
     ]
    }
   ],
   "source": [
    "\"\"\"\n",
    "난이도*** 4. ssafy에서 배우는 언어들을 출력하세요.\n",
    "출력 예시)\n",
    "python\n",
    "web\n",
    "\"\"\"\n",
    "for lang in ssafy.get('language').keys():\n",
    "    print(lang)\n",
    "    \n",
    "for lang in ssafy['language'].keys():\n",
    "    print(lang)"
   ]
  },
  {
   "cell_type": "code",
   "execution_count": null,
   "metadata": {},
   "outputs": [],
   "source": [
    ".get() # key가 존재하지 않으면 None을 return  +) 즉 에러를 내지 않는다.\n",
    "[] # key가 존재하지 않으면 에러  \n",
    "ssafy('classes', 2)는 ㄴㄴ해"
   ]
  },
  {
   "cell_type": "code",
   "execution_count": 84,
   "metadata": {},
   "outputs": [
    {
     "ename": "AttributeError",
     "evalue": "'NoneType' object has no attribute 'get'",
     "output_type": "error",
     "traceback": [
      "\u001b[1;31m---------------------------------------------------------------------------\u001b[0m",
      "\u001b[1;31mAttributeError\u001b[0m                            Traceback (most recent call last)",
      "\u001b[1;32m<ipython-input-84-e17aac1df8e3>\u001b[0m in \u001b[0;36m<module>\u001b[1;34m\u001b[0m\n\u001b[0;32m      5\u001b[0m \u001b[0mpro\u001b[0m\u001b[1;33m-\u001b[0m\u001b[0mgj\u001b[0m\u001b[1;33m\u001b[0m\u001b[1;33m\u001b[0m\u001b[0m\n\u001b[0;32m      6\u001b[0m \"\"\"\n\u001b[1;32m----> 7\u001b[1;33m \u001b[1;32mfor\u001b[0m \u001b[0mname\u001b[0m \u001b[1;32min\u001b[0m \u001b[0mssafy\u001b[0m\u001b[1;33m.\u001b[0m\u001b[0mget\u001b[0m\u001b[1;33m(\u001b[0m\u001b[1;34m'class'\u001b[0m\u001b[1;33m)\u001b[0m\u001b[1;33m.\u001b[0m\u001b[0mget\u001b[0m\u001b[1;33m(\u001b[0m\u001b[1;34m'gj'\u001b[0m\u001b[1;33m)\u001b[0m\u001b[1;33m.\u001b[0m\u001b[0mvalues\u001b[0m\u001b[1;33m(\u001b[0m\u001b[1;33m)\u001b[0m\u001b[1;33m:\u001b[0m\u001b[1;33m\u001b[0m\u001b[1;33m\u001b[0m\u001b[0m\n\u001b[0m\u001b[0;32m      8\u001b[0m     \u001b[0mprint\u001b[0m\u001b[1;33m(\u001b[0m\u001b[0mname\u001b[0m\u001b[1;33m)\u001b[0m\u001b[1;33m\u001b[0m\u001b[1;33m\u001b[0m\u001b[0m\n\u001b[0;32m      9\u001b[0m \u001b[1;33m\u001b[0m\u001b[0m\n",
      "\u001b[1;31mAttributeError\u001b[0m: 'NoneType' object has no attribute 'get'"
     ]
    }
   ],
   "source": [
    "\"\"\"\n",
    "난이도*** 5 ssafy gj반의 강사와 매니저의 이름을 출력하세요.\n",
    "출력 예시)\n",
    "change\n",
    "pro-gj\n",
    "\"\"\"\n",
    "for name in ssafy.get('classes').get('gj').values():\n",
    "    print(name)\n",
    "    \n",
    "for name in ssafy['classes']['gj'].values():\n",
    "    print(name)\n",
    "    "
   ]
  },
  {
   "cell_type": "code",
   "execution_count": 77,
   "metadata": {
    "scrolled": true
   },
   "outputs": [
    {
     "ename": "SyntaxError",
     "evalue": "invalid syntax (<ipython-input-77-ea0798bc7db6>, line 10)",
     "output_type": "error",
     "traceback": [
      "\u001b[1;36m  File \u001b[1;32m\"<ipython-input-77-ea0798bc7db6>\"\u001b[1;36m, line \u001b[1;32m10\u001b[0m\n\u001b[1;33m    for tool, funct ssafy['language']['python']['frameworks'].items():\u001b[0m\n\u001b[1;37m                        ^\u001b[0m\n\u001b[1;31mSyntaxError\u001b[0m\u001b[1;31m:\u001b[0m invalid syntax\n"
     ]
    }
   ],
   "source": [
    "\"\"\"\n",
    "난이도***** 6. framework 들의 이름과 설명을 다음과 같이 출력하세요.\n",
    "출력 예시)\n",
    "flask는 micro이다.\n",
    "django는 full-functioning이다.\n",
    "\"\"\"\n",
    "for tool, funct in ssafy.get('language').get('python').get('frameworks').items():\n",
    "    print(f'{tool}는 {funct}이다.')\n",
    "    \n",
    "for tool, funct ssafy['language']['python']['frameworks'].items():\n",
    "        print(f'{tool}는 {funct}이다.')"
   ]
  },
  {
   "cell_type": "code",
   "execution_count": 83,
   "metadata": {
    "scrolled": true
   },
   "outputs": [
    {
     "name": "stdout",
     "output_type": "stream",
     "text": [
      "오늘의 당번은 도정우\n"
     ]
    }
   ],
   "source": [
    "\"\"\"\n",
    "난이도***** 7. 오늘 당번을 뽑기 위해 groups의 E 그룹에서 한명을 랜덤으로 뽑아주세요.\n",
    "출력예시)\n",
    "오늘의 당번은 주재성\n",
    "\"\"\"\n",
    "import random\n",
    "name = ssafy.get('classes').get('gm').get('groups').get('E')\n",
    "result = random.choice(name)\n",
    "print(f'오늘의 당번은 {result}')"
   ]
  }
 ],
 "metadata": {
  "kernelspec": {
   "display_name": "Python 3",
   "language": "python",
   "name": "python3"
  },
  "language_info": {
   "codemirror_mode": {
    "name": "ipython",
    "version": 3
   },
   "file_extension": ".py",
   "mimetype": "text/x-python",
   "name": "python",
   "nbconvert_exporter": "python",
   "pygments_lexer": "ipython3",
   "version": "3.7.3"
  },
  "toc": {
   "base_numbering": 1,
   "nav_menu": {},
   "number_sections": true,
   "sideBar": true,
   "skip_h1_title": false,
   "title_cell": "Table of Contents",
   "title_sidebar": "Contents",
   "toc_cell": false,
   "toc_position": {},
   "toc_section_display": true,
   "toc_window_display": false
  }
 },
 "nbformat": 4,
 "nbformat_minor": 2
}
