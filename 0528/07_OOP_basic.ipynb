{
 "cells": [
  {
   "cell_type": "markdown",
   "metadata": {},
   "source": [
    "# OOP with python\n",
    "\n",
    "## 시작하기전에\n",
    "\n",
    "**<wikipedia - 객체지향 프로그래밍>**\n",
    ">\n",
    "> 객체 지향 프로그래밍(영어: Object-Oriented Programming, OOP)은 컴퓨터 프로그래밍의 [**패러다임**]의 하나이다. 객체 지향 프로그래밍은 컴퓨터 프로그램을 명령어의 목록으로 보는 시각에서 벗어나 여러 개의 독립된 단위, 즉 \"객체\"들의 모임으로 파악하고자 하는 것이다. 각각의 객체는 메시지를 주고받고, 데이터를 처리할 수 있다.\n",
    "\n",
    ">|```python\n",
    "+) 설명) 절차적 프로그래밍 언어와 비교가능 : data가 중심이 되지 X data는 그냥 흘러갈 뿐\n",
    "BUT 객체지향으로 넘어오게 되면서 data가 중심이 되었음(class로부터 만들어낸것. 주로 해석할 때 ~한 것으로 말한다.)\n",
    "ex. 사람은 우리모두를 포함\n",
    "사람이라는 범주안에서 우리는 모두 한 class -> 로부터 우리 모두 하나하나를 만들어낼 수 있음(지훈,신실:한명한명이 객체가 가지고 있는 속성)\n",
    "사람클래스러부터 사람객체를 만들어내고 사람객체는 속성(특징)을 가지고 있따. 그사람을 설명할 수 있는 \n",
    "그러면 이사람들은 속성만 가지고 있을까? ㄴㄴ 행동을 할 수 있다. 그런데 이 행위가 반드시 똑같아야할까?ㄴㄴ 물론 중복가능\n",
    "중요한 것은 각 객체는 독립된 특성을 가지지만, 그 근원은 class라는 것! 즉** 사람이라는 class를 벗어날 수는 X\n",
    "```\n",
    ">\n",
    "> 명령형 프로그래밍인 절차지향 프로그래밍에서 발전된 형태를 나타내며, 기본 구성요소는 다음과 같다.\n",
    "\n",
    "* 클래스(Class) \n",
    "    - 객체를 표현하는 문법\n",
    "    - 같은 종류(또는 문제 해결을 위한)의 집단에 속하는 **속성(attribute)**과 **행위(behavior)**를 정의한 것으로 객체지향 프로그램의 기본적인 사용자 정의 데이터형(user define data type)이라고 할 수 있다.\n",
    "    - 클래스는 프로그래머가 아니지만 해결해야 할 문제가 속하는 영역에 종사하는 사람이라면 사용할 수 있고, 다른 클래스 또는 외부 요소와 독립적으로 디자인하여야 한다.\n",
    "            - +) 가장 상위의 집단으로 이해하면 쉽다\n",
    "\n",
    "* 인스턴스(instance) \n",
    "    - 클래스의 인스턴스/객체(실제로 메모리상에 할당된 것) \n",
    "    - **객체는 자신 고유의 속성(attribute)을 가지며 클래스에서 정의한 행위(behavior)를 수행할 수 있다.**\n",
    "            +) 사람이 밥을먹고 노래를 부르고 춤을 추고..등등 고유한 속성이라는게 중요!!\n",
    "    - 객체의 행위는 클래스에 정의된 행위에 대한 정의(메서드)를 공유함으로써 메모리를 경제적으로 사용한다.\n",
    "\n",
    "\n",
    "* 속성(attribute) \n",
    "    - 클래스/인스턴스 가 가지고 있는 속성(값)\n",
    "\n",
    "\n",
    "* 메서드(Method) \n",
    "    - 클래스/인스턴스 가 할 수 있는 행위(함수)\n",
    "            +) 행위는 함수로 표현/클래스 '함수-매서드' 상하관계"
   ]
  },
  {
   "cell_type": "markdown",
   "metadata": {},
   "source": [
    "## 객체의 속성과 메서드\n",
    "class의 속성(값)과 행위(메서드)를 명확히 구분해 봅시다.\n",
    "\n",
    "| class / type | instance(사람클래스로부터 만들어진 객체들)                 | attributes       | methods(객체들이 할 수 있는 행동. so ㅣ러이러한 객체가 .join(조인하겠다))                                |\n",
    "| ------------ | ------------------------ | ---------------- | -------------------------------------- |\n",
    "| `str`        | `''`, `'hello'`, `'123'` |       _          | `.capitalize()`, `.join()`, `.split()` |\n",
    "| `list`       | `[]`, `['a', 'b']`       |       _          | `.append()`, `.reverse()`, `.sort()`     |\n",
    "| `dict`       | `{}`, `{'key': 'value'}` |       _          | `.keys()`, `.values()`, `.items()`    |\n",
    "| `int`        | `0`, `1`, `2`            | `.real`, `.imag` |                                        |\n",
    "hello라는 객체는~"
   ]
  },
  {
   "cell_type": "code",
   "execution_count": null,
   "metadata": {},
   "outputs": [],
   "source": [
    "# 문자열을 하나 만들어보고 type을 확인해봅시다."
   ]
  },
  {
   "cell_type": "code",
   "execution_count": null,
   "metadata": {},
   "outputs": [],
   "source": [
    "# \n",
    "string = 'justin'\n",
    "print(type(string))\n",
    "# 결과분석 : string class로부터 나온 instantance구나 를 type함수를 통해서 알 수 있다."
   ]
  },
  {
   "cell_type": "code",
   "execution_count": null,
   "metadata": {},
   "outputs": [],
   "source": [
    "# 복소수를 하나 만들어보고, 타입을 출력해봅시다."
   ]
  },
  {
   "cell_type": "code",
   "execution_count": null,
   "metadata": {},
   "outputs": [],
   "source": [
    "#\n",
    "img_number = 3 + 4j\n",
    "print(type(img_number))"
   ]
  },
  {
   "cell_type": "code",
   "execution_count": null,
   "metadata": {},
   "outputs": [],
   "source": [
    "# 허수부랑 실수부를 함께 출력해봅시다. \n",
    "# complex 객체의 실수 속성과 허수 속성이라고도 표현 가능합니다.(imag는 허수부분을 출력)"
   ]
  },
  {
   "cell_type": "code",
   "execution_count": null,
   "metadata": {},
   "outputs": [],
   "source": [
    "#\n",
    "print(img_number.imag)"
   ]
  },
  {
   "cell_type": "markdown",
   "metadata": {},
   "source": [
    "`list` class의 객체들이 할 수 있는 행위(메서드)들을 확인해 봅시다."
   ]
  },
  {
   "cell_type": "code",
   "execution_count": null,
   "metadata": {},
   "outputs": [],
   "source": [
    "# 리스트를 하나 만들고 정렬해봅시다. list 객체의 메서드 실행이라고도 표현 가능합니다."
   ]
  },
  {
   "cell_type": "code",
   "execution_count": null,
   "metadata": {
    "scrolled": true
   },
   "outputs": [],
   "source": [
    "#\n",
    "my_list = [3, 2, 1]\n",
    "print(type(my_list))"
   ]
  },
  {
   "cell_type": "code",
   "execution_count": null,
   "metadata": {},
   "outputs": [],
   "source": [
    "#\n",
    "my_list.sort()\n",
    "print(my_list)"
   ]
  },
  {
   "cell_type": "code",
   "execution_count": null,
   "metadata": {},
   "outputs": [],
   "source": [
    "my_list.reverse()\n",
    "print(my_list)"
   ]
  },
  {
   "cell_type": "code",
   "execution_count": null,
   "metadata": {},
   "outputs": [],
   "source": [
    "#"
   ]
  },
  {
   "cell_type": "code",
   "execution_count": null,
   "metadata": {},
   "outputs": [],
   "source": [
    "# list class 의 객체들이 할 수 있는 것들을 알아봅시다. \n",
    "# (*list 객체가 가지고 있는 모든 속성과 메서드를 보여줍니다.*)"
   ]
  },
  {
   "cell_type": "code",
   "execution_count": null,
   "metadata": {},
   "outputs": [],
   "source": [
    "# list class안에 있는 instance가 가지고 있는 속성들 (~하는 것으로 정의)\n",
    "print(dir(list))"
   ]
  },
  {
   "cell_type": "markdown",
   "metadata": {},
   "source": [
    "## User without OOP\n",
    "\n",
    "서비스를 만들었다고 가정하고, 사용자들이 로그인을 한 뒤 해당 정보를 기록하고 있는 모듈을 만들어봅시다."
   ]
  },
  {
   "cell_type": "code",
   "execution_count": null,
   "metadata": {},
   "outputs": [],
   "source": [
    "#\n",
    "username = '홍길동'\n",
    "password = 'ghdrlfehd1!'\n",
    "\n",
    "def change_password(old_password, new_password):\n",
    "    global password\n",
    "    if old_password == password:\n",
    "        password = new_password\n",
    "        print('비밀번호가 변경되었습니다.')\n",
    "    else:\n",
    "        print('비밀번호가 일치하지 않습니다.')"
   ]
  },
  {
   "cell_type": "code",
   "execution_count": null,
   "metadata": {},
   "outputs": [],
   "source": [
    "# 유저가 비밀번호를 변경을 요청\n",
    "change_password(password, 'ghdrlfehd@')"
   ]
  },
  {
   "cell_type": "code",
   "execution_count": null,
   "metadata": {},
   "outputs": [],
   "source": [
    "# 비밀번호가 변경되었는지 확인해봅시다.\n",
    "print(password)"
   ]
  },
  {
   "cell_type": "markdown",
   "metadata": {},
   "source": [
    "### 문제점\n",
    "\n",
    "> `username`과 `password` 는 global namespace 에 작성되어있기 때문에 해당 모듈로는 한사람의 정보 밖에 담지 못한다.\n",
    ">\n",
    "> 바꾸어 말하면 여러 사람이 로그인을 한다면 똑같이 생긴 모듈을 여러개 만들어야 하는 상황이 오게 될 것이다. `change_password1`, `change_password2` ...\n",
    ">\n",
    "> 어떻게하면 동일한 `username`과 `password`를 global namespace 가 아닌 **독립적인 namespace**에 가지고 있으며 `change_password` 함수를 실행했을 때 **본인의 `password`만** 바꿀 수 있는 여러명의 `User` 만들고 관리할 수 있을까?"
   ]
  },
  {
   "cell_type": "markdown",
   "metadata": {},
   "source": [
    "# 클래스 및 인스턴스"
   ]
  },
  {
   "cell_type": "markdown",
   "metadata": {},
   "source": [
    "## 클래스 정의하기 (클래스 객체 생성하기)\n",
    "\n",
    "\n",
    "* 선언과 동시에 클래스 객체가 생성된다.\n",
    "\n",
    "* 또한, 선언된 공간은 지역 스코프(local scope)로 사용된다.\n",
    "\n",
    "* **정의된 어트리뷰트 중 변수는 멤버 변수**로 불린다.\n",
    "\n",
    "* 정의된 함수(`def`)는 메서드로 불린다.(Q. class에서 정의된 함수가 매서드?)\n",
    "\n",
    "---\n",
    "\n",
    "**활용법**\n",
    "\n",
    "```python\n",
    "class ClassName:\n",
    "    attributes\n",
    "    methods\n",
    "```"
   ]
  },
  {
   "cell_type": "code",
   "execution_count": null,
   "metadata": {},
   "outputs": [],
   "source": [
    "# Class를 만들어봅시다."
   ]
  },
  {
   "cell_type": "code",
   "execution_count": null,
   "metadata": {},
   "outputs": [],
   "source": [
    "#\n",
    "class User:\n",
    "    \"\"\"\n",
    "    This is User Class\n",
    "    \"\"\"\n",
    "    name = 'UserClass'"
   ]
  },
  {
   "cell_type": "code",
   "execution_count": null,
   "metadata": {},
   "outputs": [],
   "source": [
    "# 모든 클래스의 조상은 type(Mata Class) 이 클래스도 결과적으로 객체다...? type으로부터 나온??????\n",
    "print(type(User))\n",
    "print(User)"
   ]
  },
  {
   "cell_type": "markdown",
   "metadata": {},
   "source": [
    "## 인스턴스 생성하기\n",
    "\n",
    "* 인스턴스 객체는 `ClassName()`을 호출함으로써 생성된다.\n",
    "\n",
    "* **(중요)인스턴스 객체와 클래스 객체는 서로 다른 이름 공간**(변수들의 구분: 똑같은 이름이라도 다른 공간에 있으면 다른 것)을 가지고 있다.\n",
    "\n",
    "* **인스턴스(instance) => 클래스(class) => 전역(global) 순으로 탐색을 한다.**(class는 local값을 가진다)/if 전역에 없으면 nameerror\n",
    "\n",
    "```python\n",
    "# 인스턴스 = 클래스()\n",
    "puppy = Dog()\n",
    "```\n",
    "- 클래스로부터 인스턴스를 만드는 것은 함수 표기법을 사용한다.\n",
    "- 클래스는 특정 개념을 표현하는 껍데기고 실제 사용하려면 인스턴스를 생성해야 한다."
   ]
  },
  {
   "cell_type": "code",
   "execution_count": null,
   "metadata": {},
   "outputs": [],
   "source": [
    "# User class 의 인스턴스를 만들어 봅시다.\n",
    "# 인스턴스의 type과 우리가 위에서 정의한 클래스의 doc의 출력해 봅시다."
   ]
  },
  {
   "cell_type": "code",
   "execution_count": null,
   "metadata": {},
   "outputs": [],
   "source": [
    "# \n",
    "user = User() #(User클래스로부터 만든 user: 함수를 호출하는 것과 똑같은 방식으로 instance를 만들 수 있다는 것)\n",
    "print(type(user))\n",
    "print(user.__doc__)\n",
    "print(user.name)\n",
    "# docstring 함수를 설명할때 /도트연산자: 속성접근"
   ]
  },
  {
   "cell_type": "code",
   "execution_count": null,
   "metadata": {},
   "outputs": [],
   "source": [
    "# namespace를 확인해봅시다."
   ]
  },
  {
   "cell_type": "code",
   "execution_count": null,
   "metadata": {},
   "outputs": [],
   "source": [
    "# user 인스턴스에는 현재 name이 없습니다.\n",
    "# 그래서 User Class의 name이라는 변수가 있는지 확인하고 있으면 그것을 가져옵니다.\n",
    "print(user.name) #class와 속성은 다른 이름공간"
   ]
  },
  {
   "cell_type": "code",
   "execution_count": null,
   "metadata": {},
   "outputs": [],
   "source": [
    "# user 인스턴스에게 이름을 부여해봅시다.\n",
    "user.name = '홍길동'"
   ]
  },
  {
   "cell_type": "code",
   "execution_count": null,
   "metadata": {},
   "outputs": [],
   "source": [
    "# user 의 이름을 가져옵니다. 그렇다고 User class 의 name 이 바뀐 것은 아닙니다.\n",
    "# User class 와 인스턴스는 서로 다른 namespace 를 가지고 있습니다.\n",
    "\n",
    "# 인스턴스(user)의 속성\n",
    "print(user.name)\n",
    "\n",
    "# 클래스(class- Q.User?????)의 속성\n",
    "print(User.name) #서로 다른 이름공간임을 확인"
   ]
  },
  {
   "cell_type": "code",
   "execution_count": null,
   "metadata": {},
   "outputs": [],
   "source": [
    "# 추가 -> 3(정수)은 Int Class의 인스턴스\n",
    "print(type(3))"
   ]
  },
  {
   "cell_type": "code",
   "execution_count": null,
   "metadata": {},
   "outputs": [],
   "source": [
    "# 추가 -> Int 클래스는 type 클래스의 인스턴스\n",
    "print(type(int))"
   ]
  },
  {
   "cell_type": "markdown",
   "metadata": {},
   "source": [
    "### User with OOP\n",
    "서비스를 만들었다고 가정하고, 사용자들이 로그인을 한 뒤 해당 정보를 기록할 클래스를 만들어봅시다."
   ]
  },
  {
   "cell_type": "code",
   "execution_count": null,
   "metadata": {},
   "outputs": [],
   "source": [
    "#\n",
    "class User:\n",
    "    # Class 변수\n",
    "    username = ''\n",
    "    password = ''\n",
    "    \n",
    "    def change_password(self, old_password, new_password):#클래스 안에 정의된 매서드/반드시 self가 들어감(인스턴스인 나)\n",
    "        # self -> 인스턴스 자기 자신을 의미한다.\n",
    "        if old_password == self.password:\n",
    "            self.password = new_password\n",
    "            print('비밀번호가 변경되었습니다.')\n",
    "        else:\n",
    "            print('비밀번호가 일치하지 않습니다.')"
   ]
  },
  {
   "cell_type": "code",
   "execution_count": null,
   "metadata": {},
   "outputs": [],
   "source": [
    "# 유저를 생성하고 이름과 비밀번호를 확인해봅시다."
   ]
  },
  {
   "cell_type": "code",
   "execution_count": null,
   "metadata": {},
   "outputs": [],
   "source": [
    "# 내가 만든 인스턴스,,생성\n",
    "# 결과 분석)'User라는 클래스로부터 나온 , object이다.'라는것만 확인\n",
    "user = User()\n",
    "print(user)\n",
    "# 인스턴스의 속성 접근 벗 아무것도 없어서 클래스로가지만 클래스도 빈스트링이므로 아무것도 안나옴\n",
    "print(user.username)\n",
    "print(user.password)"
   ]
  },
  {
   "cell_type": "code",
   "execution_count": null,
   "metadata": {},
   "outputs": [],
   "source": [
    "# 이름과 비밀번호를 부여하고 확인해봅시다."
   ]
  },
  {
   "cell_type": "code",
   "execution_count": null,
   "metadata": {},
   "outputs": [],
   "source": [
    "#\n",
    "user.name = '홍길동'\n",
    "user.password = 'ghdrlfehd1!'\n",
    "print(user.name)\n",
    "print(user.password)"
   ]
  },
  {
   "cell_type": "code",
   "execution_count": null,
   "metadata": {},
   "outputs": [],
   "source": [
    "# 비밀번호를 변경하고 확인해봅시다."
   ]
  },
  {
   "cell_type": "code",
   "execution_count": null,
   "metadata": {},
   "outputs": [],
   "source": [
    "# 아까도 변경되었는데 새로운게 생겼다. 그럼 유저가 한명 더 새긴거야. 인스턴스를 하나 더 만들면 돼\n",
    "user.change_password('ghdrlfehd1!', 'ghdrlfehd2@') # self(인스턴스)는 암묵적으로\n",
    "print(user.password)"
   ]
  },
  {
   "cell_type": "code",
   "execution_count": null,
   "metadata": {},
   "outputs": [],
   "source": [
    "# 실습\n",
    "# 새로운 유저를 생성하고 반복해봅시다."
   ]
  },
  {
   "cell_type": "code",
   "execution_count": null,
   "metadata": {},
   "outputs": [],
   "source": [
    "#\n",
    "user2 = User()\n",
    "user2.name = '박길동'\n",
    "user2.password = 'qkrrlfehd1!'\n",
    "print(user2.name)\n",
    "print(user2.password)\n",
    "\n",
    "print(user.password) #홍길동것과 완전히 다름/이름공간이 완전히 분리된 상태"
   ]
  },
  {
   "cell_type": "markdown",
   "metadata": {},
   "source": [
    "### python 출력의 비밀  __str__ 과 __repr__ \n",
    "- `__str__`: 특정 객체를 print() 할 때 보이는 값\n",
    "- `__repr__`: 그냥 객체 자체가 보여주는 값\n",
    "- 그리고 우리는 위의 두 값을 모두 우리가 원하는 방식으로 수정할 수 있습니다.\n",
    "    - ex_datetime\n",
    "    - ex_print/return 프린트는 걍 출력.찍어보는 것/리턴은 함수가 뱉어낸 값"
   ]
  },
  {
   "cell_type": "code",
   "execution_count": null,
   "metadata": {},
   "outputs": [],
   "source": [
    "# \n",
    "class User:\n",
    "    username = ''\n",
    "    password = ''\n",
    "    \n",
    "    def __str__(self):\n",
    "        return 'print안에 넣으면 이렇게 나오고'\n",
    "    \n",
    "    def __repr__(self):\n",
    "        return '그냥 객체만 놔두면 이렇게 나오지요.'"
   ]
  },
  {
   "cell_type": "code",
   "execution_count": null,
   "metadata": {},
   "outputs": [],
   "source": [
    "# \n",
    "user = User()\n",
    "print(user)\n",
    "user"
   ]
  },
  {
   "cell_type": "code",
   "execution_count": null,
   "metadata": {},
   "outputs": [],
   "source": [
    "from datetime import datetime\n",
    "\n",
    "today = datetime.now()\n",
    "print(today) #str은 일반적인 사람들을 위해 만들어진것(객체를 출력할 떄 사람들이 보기 편하게, 예쁘게) /장고의 데이터베이스를 class로설정해둘거야......................보기편하.....게....\n",
    "today"
   ]
  },
  {
   "cell_type": "markdown",
   "metadata": {},
   "source": [
    "### 인스턴스와 객체\n",
    "- **인스턴스와 객체**는 같은 것을 의미한다. \n",
    "- 보통 객체만 지칭할 때는 단순히 객체(object)라고 부른다. \n",
    "- 하지만 클래스와 연관지어서 말할 때는 인스턴스(instance)라고 부른다.\n",
    "\n",
    "```python\n",
    "a = int(10)\n",
    "b = int(20)\n",
    "# a, b 는 객체\n",
    "# a, b 는 int 클래스의 인스턴스(좀 더 구체적인 표현이지만 객체를 걍 인스턴스로 표현할거임)\n",
    "```"
   ]
  },
  {
   "cell_type": "code",
   "execution_count": null,
   "metadata": {},
   "outputs": [],
   "source": [
    "a = int(10)\n",
    "#user = User() 와 형태 완전히 동일: User라는 클래스로부터 인스턴스 생성 \n",
    "\n",
    "# a 가 int 클래스의 인스턴스인지 확인해봅시다."
   ]
  },
  {
   "cell_type": "code",
   "execution_count": null,
   "metadata": {},
   "outputs": [],
   "source": [
    "# (내가 확인하고 싶은 instance, Class)\n",
    "isinstance(a, int) #a가 int class의 인스턴스니? True\n"
   ]
  },
  {
   "cell_type": "code",
   "execution_count": null,
   "metadata": {},
   "outputs": [],
   "source": [
    "# 다른 방법으로 확인해봅시다."
   ]
  },
  {
   "cell_type": "code",
   "execution_count": null,
   "metadata": {},
   "outputs": [],
   "source": [
    "#\n",
    "type(a) == int #A는 인트 클래스로부터 만들어진 인스턴스니? 니까 ㅇㅇ"
   ]
  },
  {
   "cell_type": "markdown",
   "metadata": {},
   "source": [
    "## MyList\n",
    "\n",
    "> 지금까지 배운 것을 활용하여 나만의 리스트 class `MyList`를 작성하세요.\n",
    "\n",
    "> 해당 메서드는 사용자 정의 메서드로 구현합니다.(기존의 내장 메서드 사용x)\n",
    "\n",
    "> 우선 클래스 내에 정의하는 모든 함수(메서드)의 첫번째 인자는 `self`로 설정해주세요. self는 인스턴스 자기 자신을 의미합니다. 자세한 내용은 바로 뒤에서 학습합니다.\n",
    "---\n",
    "\n",
    "`MyList` 클래스가 가지는 변수와 메서드는 아래와 같습니다.\n",
    "\n",
    "```\n",
    "* 멤버 변수(클래스 변수)\n",
    "data : 비어 있는 리스트\n",
    "\n",
    "* 메서드\n",
    "append() : 값을 받아 data 에 추가합니다. 리턴 값은 없습니다.\n",
    "count() : data 리스트 요소의 개수를 리턴합니다.\n",
    "clear() : 값을 모두 삭제합니다. 리턴값은 없습니다.\n",
    "\n",
    "__repr__ : ex) '내 리스트에는 [1, 2, 3] 이 담겨있다.'\n",
    " +) -> 프린트가 아니라 객체를 보여줄때 사용\n",
    "```"
   ]
  },
  {
   "cell_type": "code",
   "execution_count": null,
   "metadata": {},
   "outputs": [],
   "source": [
    "# 아래에 코드를 작성해주세요."
   ]
  },
  {
   "cell_type": "code",
   "execution_count": 1,
   "metadata": {},
   "outputs": [],
   "source": [
    "#\n",
    "\n",
    "class MyList:\n",
    "    data = []\n",
    "    def append(self, a):\n",
    "        self.data += [a]\n",
    "        \n",
    "    def count(self):\n",
    "        return len(self.data)\n",
    "    \n",
    "    def clear(self):\n",
    "        self.data = []\n",
    "        \n",
    "    def __repr__(self):\n",
    "        return f'내 리스트에는 {self.data}이 담겨있다.'\n",
    "    def __str__(self):\n",
    "        return f'??내스트??{self.data}'\n",
    "\n",
    "# class MyList:\n",
    "#     data = []\n",
    "    \n",
    "#     def append(self, element):#self는 인스턴스 나 자신\n",
    "#         self.data += [element]#이름공간에 내가없으면 class로 나가니까\n",
    "        \n",
    "#     def count(self):\n",
    "#         return len(self.data)\n",
    "    \n",
    "#     def clear(self):\n",
    "#         self.data = []\n",
    "        \n",
    "#     def __repr__(self):#magic method긴하지만 self인자를 넣어두긴 함\n",
    "#         return f'내 리스트에는 {self.data}가 담겨있다.'"
   ]
  },
  {
   "cell_type": "code",
   "execution_count": 2,
   "metadata": {},
   "outputs": [
    {
     "data": {
      "text/plain": [
       "내 리스트에는 []이 담겨있다."
      ]
     },
     "execution_count": 2,
     "metadata": {},
     "output_type": "execute_result"
    }
   ],
   "source": [
    "#\n",
    "ml = MyList()\n",
    "ml"
   ]
  },
  {
   "cell_type": "code",
   "execution_count": 3,
   "metadata": {},
   "outputs": [
    {
     "data": {
      "text/plain": [
       "내 리스트에는 [1]이 담겨있다."
      ]
     },
     "execution_count": 3,
     "metadata": {},
     "output_type": "execute_result"
    }
   ],
   "source": [
    "ml.append(1)\n",
    "ml"
   ]
  },
  {
   "cell_type": "code",
   "execution_count": 4,
   "metadata": {},
   "outputs": [
    {
     "data": {
      "text/plain": [
       "내 리스트에는 [1, 2]이 담겨있다."
      ]
     },
     "execution_count": 4,
     "metadata": {},
     "output_type": "execute_result"
    }
   ],
   "source": [
    "ml.append(2)\n",
    "ml"
   ]
  },
  {
   "cell_type": "code",
   "execution_count": 5,
   "metadata": {},
   "outputs": [
    {
     "name": "stdout",
     "output_type": "stream",
     "text": [
      "??내스트??[1, 2, 3]\n"
     ]
    }
   ],
   "source": [
    "ml.append(3)\n",
    "print(ml)"
   ]
  },
  {
   "cell_type": "code",
   "execution_count": 6,
   "metadata": {},
   "outputs": [
    {
     "data": {
      "text/plain": [
       "내 리스트에는 [1, 2, 3, 4]이 담겨있다."
      ]
     },
     "execution_count": 6,
     "metadata": {},
     "output_type": "execute_result"
    }
   ],
   "source": [
    "ml.append(4)\n",
    "ml"
   ]
  },
  {
   "cell_type": "code",
   "execution_count": 7,
   "metadata": {},
   "outputs": [
    {
     "data": {
      "text/plain": [
       "4"
      ]
     },
     "execution_count": 7,
     "metadata": {},
     "output_type": "execute_result"
    }
   ],
   "source": [
    "ml.count()"
   ]
  },
  {
   "cell_type": "code",
   "execution_count": 8,
   "metadata": {},
   "outputs": [],
   "source": [
    "ml2 = MyList()"
   ]
  },
  {
   "cell_type": "code",
   "execution_count": 9,
   "metadata": {},
   "outputs": [
    {
     "data": {
      "text/plain": [
       "내 리스트에는 [1, 2, 3, 4, 5]이 담겨있다."
      ]
     },
     "execution_count": 9,
     "metadata": {},
     "output_type": "execute_result"
    }
   ],
   "source": [
    "ml2.append(5)\n",
    "ml2"
   ]
  },
  {
   "cell_type": "code",
   "execution_count": 10,
   "metadata": {},
   "outputs": [
    {
     "data": {
      "text/plain": [
       "내 리스트에는 [1, 2, 3, 4, 5, 6]이 담겨있다."
      ]
     },
     "execution_count": 10,
     "metadata": {},
     "output_type": "execute_result"
    }
   ],
   "source": [
    "ml2.append(6)\n",
    "ml2"
   ]
  },
  {
   "cell_type": "code",
   "execution_count": 11,
   "metadata": {},
   "outputs": [
    {
     "data": {
      "text/plain": [
       "내 리스트에는 [1, 2, 3, 4, 5, 6]이 담겨있다."
      ]
     },
     "execution_count": 11,
     "metadata": {},
     "output_type": "execute_result"
    }
   ],
   "source": [
    "ml"
   ]
  },
  {
   "cell_type": "markdown",
   "metadata": {},
   "source": [
    "각 셀을 두번 이상 실행하면 원하지 않은 결과가 나올 수 있으니 유의하세요.\n",
    "\n",
    "결과를 [python tutor](http://pythontutor.com/visualize.html#mode=edit)로 다시 한번 확인하세요"
   ]
  },
  {
   "cell_type": "code",
   "execution_count": null,
   "metadata": {},
   "outputs": [],
   "source": [
    "# 아래에서 인스턴스를 만들고 메서드를 호출하세요."
   ]
  },
  {
   "cell_type": "code",
   "execution_count": null,
   "metadata": {},
   "outputs": [],
   "source": [
    "#"
   ]
  },
  {
   "cell_type": "markdown",
   "metadata": {},
   "source": [
    "## 용어 정리\n",
    "\n",
    "```python\n",
    "class Person:                     # 클래스 정의(선언, 클래스 객체 생성) # 일반적으로 ()는 상속받을때만 하지만 오류가나진 않을거야 # 파이썬에서는 두가지이상의 단어의 합성어일 때 PersonGame이런식으로\n",
    "    name = 'unknown'              # 멤버 변수(data attribute)  : class변수 (모든 인스턴스가 공유하는친구)\n",
    "    def greeting(self):           # 멤버 메서드(  class의 멤버), 메서드의 첫번째인자는 self(이름달라도 되지만 보통 self로)\n",
    "        return f'{self.name}' \n",
    "```\n",
    "  \n",
    "    \n",
    "```python\n",
    "richard = Person()      # 인스턴스 객체 생성\n",
    "tim = Person()          # 인스턴스 객체 생성\n",
    "tim.name                # 멤버 변수(클래스 변수) 호출\n",
    "tim.greeting()          # 메서드(인스턴스 메서드) 호출/위 함수 self에 tim이 들ㅇㅓ감\n",
    "```"
   ]
  },
  {
   "cell_type": "markdown",
   "metadata": {},
   "source": [
    "## 클래스와 인스턴스 변수\n",
    "\n",
    "- 클래스 변수(멤버)\n",
    "    - 클래스의 모든 인스턴스에서 공유되는 어트리뷰트와 메서드를 위한 것\n",
    "    - 모든 인스턴스 객체가 공유\n",
    "    - MyList 실습 떠올리기\n",
    "    \n",
    "    \n",
    "- 인스턴스 변수(멤버)\n",
    "    - 인스턴스별 데이터를 위한 것\n",
    "    - 각 인스턴스들의 고유 변수\n",
    "    \n",
    "    \n",
    "```python\n",
    "class Dog:\n",
    "\n",
    "    kind = 'tori'                # 클래스 변수 (모든 인스턴스가 공유)\n",
    "\n",
    "    def __init__(self, name):    # 인스턴스 생성자 함수\n",
    "        self.name = name         # 인스턴스 변수 (각 인스턴스들의 고유 변수)\n",
    "```"
   ]
  },
  {
   "cell_type": "code",
   "execution_count": null,
   "metadata": {},
   "outputs": [],
   "source": [
    "# Person 클래스를 만들어 봅시다."
   ]
  },
  {
   "cell_type": "code",
   "execution_count": 12,
   "metadata": {},
   "outputs": [],
   "source": [
    "#\n",
    "class Person:\n",
    "    name = 'unknown'\n",
    "    \n",
    "    def greeting(self):\n",
    "        return f'Hi I am {self.name}'"
   ]
  },
  {
   "cell_type": "code",
   "execution_count": 13,
   "metadata": {},
   "outputs": [
    {
     "data": {
      "text/plain": [
       "'Hi I am unknown'"
      ]
     },
     "execution_count": 13,
     "metadata": {},
     "output_type": "execute_result"
    }
   ],
   "source": [
    "#\n",
    "p1 = Person()\n",
    "p1.greeting()"
   ]
  },
  {
   "cell_type": "code",
   "execution_count": 14,
   "metadata": {},
   "outputs": [
    {
     "data": {
      "text/plain": [
       "True"
      ]
     },
     "execution_count": 14,
     "metadata": {},
     "output_type": "execute_result"
    }
   ],
   "source": [
    "# 클래스와 인스턴스간의 관계를 확인해 봅시다.\n",
    "isinstance(p1, Person)"
   ]
  },
  {
   "cell_type": "code",
   "execution_count": 15,
   "metadata": {},
   "outputs": [
    {
     "name": "stdout",
     "output_type": "stream",
     "text": [
      "dogdogdog\n",
      "['__class__', '__delattr__', '__dict__', '__dir__', '__doc__', '__eq__', '__format__', '__ge__', '__getattribute__', '__gt__', '__hash__', '__init__', '__init_subclass__', '__le__', '__lt__', '__module__', '__ne__', '__new__', '__reduce__', '__reduce_ex__', '__repr__', '__setattr__', '__sizeof__', '__str__', '__subclasshook__', '__weakref__', 'name']\n",
      "{'name': 'dogdogdog'}\n",
      "========\n",
      "{'name': 'dogdogdog'}\n",
      "['__add__', '__class__', '__contains__', '__delattr__', '__delitem__', '__dir__', '__doc__', '__eq__', '__format__', '__ge__', '__getattribute__', '__getitem__', '__gt__', '__hash__', '__iadd__', '__imul__', '__init__', '__init_subclass__', '__iter__', '__le__', '__len__', '__lt__', '__mul__', '__ne__', '__new__', '__reduce__', '__reduce_ex__', '__repr__', '__reversed__', '__rmul__', '__setattr__', '__setitem__', '__sizeof__', '__str__', '__subclasshook__', 'append', 'clear', 'copy', 'count', 'extend', 'index', 'insert', 'pop', 'remove', 'reverse', 'sort']\n"
     ]
    }
   ],
   "source": [
    "# 참고\n",
    "\n",
    "class Dog:\n",
    "    pass\n",
    "\n",
    "d = Dog()\n",
    "d.name = 'dogdogdog'\n",
    "print(d.name)\n",
    "print(dir(d))\n",
    "print(d.__dict__)\n",
    "print('========')\n",
    "\n",
    "\n",
    "print(d.__dict__)\n",
    "# # 오류가 난다. 왱..? __dictII가 없음/이름공간에 담길 변수가 담길공간이 마땅치않다>...?\n",
    "l = list()\n",
    "print(dir(l))#class 로부터 instance를 만들었따.\n",
    "# l.name = 'hihihi' # dict가 없어서 오류가난다는딩\n",
    "# print(l)"
   ]
  },
  {
   "cell_type": "markdown",
   "metadata": {},
   "source": [
    "##  `self` : 인스턴스 객체 자기자신\n",
    "\n",
    "* C++ 혹은 자바에서의 this 키워드와 동일함. \n",
    "\n",
    "\n",
    "* 특별한 상황을 제외하고는 **무조건 메서드에서 `self`를 첫번째 인자로 설정**(+ 특별한 상황은 class method/나중에 할거임)\n",
    "\n",
    "\n",
    "* 메서드는 인스턴스 객체가 함수의 첫번째 인자로 전달되도록 되어있다."
   ]
  },
  {
   "cell_type": "code",
   "execution_count": null,
   "metadata": {},
   "outputs": [],
   "source": [
    "# p1 의 이름을 자신의 이름으로 바꾸고 다시 인사해 봅시다."
   ]
  },
  {
   "cell_type": "code",
   "execution_count": null,
   "metadata": {},
   "outputs": [],
   "source": [
    "# 인스턴스.매서드(자동으로 인스턴스 자기 자신을 넘긴다 -> self에 바인딩 된다.)\n",
    "p1.name = 'justin'\n",
    "p1.greeting() #인스턴스(p1).매서드(greeting) : instance를 통해 mathod호출"
   ]
  },
  {
   "cell_type": "code",
   "execution_count": null,
   "metadata": {},
   "outputs": [],
   "source": [
    "# greeting 함수의 첫번째 인자 self는 아래와 같은 뜻입니다."
   ]
  },
  {
   "cell_type": "code",
   "execution_count": null,
   "metadata": {},
   "outputs": [],
   "source": [
    "# 클래스.매서드(인스턴스)\n",
    "Person.greeting(p1) #class로부터 method 호출 #TypeError: greeting() missing 1 required positional argument: 'self' 에러 발생\n",
    "#인스턴스를 만들고 매서드 호출할때 self호출 근데 p1을 안넣어주면 안됨"
   ]
  },
  {
   "cell_type": "code",
   "execution_count": null,
   "metadata": {},
   "outputs": [],
   "source": [
    "# 그러나 클래스가 아닌 인스턴스 에서 사용될 경우 self 자리에 자동으로 인스턴스 객체가 할당됩니다."
   ]
  },
  {
   "cell_type": "code",
   "execution_count": null,
   "metadata": {},
   "outputs": [],
   "source": [
    "# 이 경우는 인스턴스로 매서드를 호출하기 떄문에 자동으로 p2라는 인스턴스를 넘긴다.\n",
    "# self에는 자동으로 p2가 넘어가게 되고 결과적으로 self.name은 p2.name과 동일하다.\n",
    "p2 = Person()\n",
    "p2.greeting()"
   ]
  },
  {
   "cell_type": "code",
   "execution_count": null,
   "metadata": {},
   "outputs": [],
   "source": [
    "# 에러남\n",
    "class TestClass:\n",
    "    def test():\n",
    "        return '이런 식으로 함수를 써도 잘 동작합니다.'\n",
    "    \n",
    "# print(TestClass.test())\n",
    "\n",
    "tc = TestClass()\n",
    "tc.test()"
   ]
  },
  {
   "cell_type": "code",
   "execution_count": null,
   "metadata": {},
   "outputs": [],
   "source": [
    "# 동작함\n",
    "class TestClass:\n",
    "    def test(self):\n",
    "        return '이런 식으로 함수를 써도 잘 동작합니다.'\n",
    "    \n",
    "# print(TestClass.test())\n",
    "\n",
    "tc = TestClass()\n",
    "tc.test()"
   ]
  },
  {
   "cell_type": "markdown",
   "metadata": {},
   "source": [
    "## 클래스-인스턴스간의 이름공간\n",
    "\n",
    "* 클래스를 정의하면, 클래스 객체가 생성되고 해당되는 이름 공간이 생성된다. \n",
    "\n",
    "\n",
    "* 인스턴스를 만들게 되면, 인스턴스 객체가 생성되고 해당되는 이름 공간이 생성된다.\n",
    "\n",
    "\n",
    "* 인스턴스의 어트리뷰트가 변경되면, 변경된 데이터를 인스턴스 객체 이름 공간에 저장한다.\n",
    "\n",
    "\n",
    "* 즉, 인스턴스에서 특정한 어트리뷰트에 접근하게 되면 **인스턴스 => 클래스** 순으로 탐색을 한다.(더 나아가서 global까지 탐색ㄱ)"
   ]
  },
  {
   "cell_type": "code",
   "execution_count": 18,
   "metadata": {},
   "outputs": [],
   "source": [
    "class Person:\n",
    "    name = 'unknown'\n",
    "    \n",
    "    def greeting(self):\n",
    "        return f'my name is {name}'\n",
    "        # class에 정의된 메서드라도 class namespace에 바로 접근하지 못합니다.\n",
    "        # 따라서 위 코드는 에러를 발생시킵니다."
   ]
  },
  {
   "cell_type": "code",
   "execution_count": null,
   "metadata": {},
   "outputs": [],
   "source": [
    "# 아래에서 확인해 봅시다."
   ]
  },
  {
   "cell_type": "code",
   "execution_count": 19,
   "metadata": {},
   "outputs": [
    {
     "data": {
      "text/plain": [
       "'my name is unknown'"
      ]
     },
     "execution_count": 19,
     "metadata": {},
     "output_type": "execute_result"
    }
   ],
   "source": [
    "# 에러나지.\n",
    "p2 = Person()\n",
    "p2.greeting()"
   ]
  },
  {
   "cell_type": "code",
   "execution_count": 20,
   "metadata": {},
   "outputs": [],
   "source": [
    "# `name`을 `self.name`으로 바꾸고 다시 확인해봅시다.\n",
    "class Person:\n",
    "    name = 'unknown'\n",
    "    \n",
    "    def greeting(self):\n",
    "        return f'my name is {self.name}' # 차이점\n"
   ]
  },
  {
   "cell_type": "code",
   "execution_count": null,
   "metadata": {},
   "outputs": [],
   "source": [
    "# 아래에서 확인해 봅시다."
   ]
  },
  {
   "cell_type": "code",
   "execution_count": 21,
   "metadata": {},
   "outputs": [
    {
     "name": "stdout",
     "output_type": "stream",
     "text": [
      "my name is unknown\n",
      "my name is unknown\n"
     ]
    }
   ],
   "source": [
    "#\n",
    "p2 = Person()\n",
    "print(p2.greeting()) #instance로 매서드 호출\n",
    "print(Person.greeting(p2))"
   ]
  },
  {
   "cell_type": "markdown",
   "metadata": {},
   "source": [
    "* **class와 instance는 서로 다른 namespace를 가지고 있다.**\n",
    " \n",
    "> 위에서 출력한 이름 \"unknown\"은 class의 `name`이다.\n",
    ">\n",
    "> **instance => class** 순서로 `name`을 서칭했으며,\n",
    "> \n",
    "> instance는 `name` 값이 없기 때문에 class의 `name` 을 찾은것이다. \n",
    ">\n",
    "> 아래에서 이제 instance에 `name` 값을 할당하고 확인해보자."
   ]
  },
  {
   "cell_type": "code",
   "execution_count": 22,
   "metadata": {},
   "outputs": [
    {
     "name": "stdout",
     "output_type": "stream",
     "text": [
      "Jack\n",
      "unknown\n"
     ]
    }
   ],
   "source": [
    "#\n",
    "p2.name = 'Jack'\n",
    "print(p2.name)\n",
    "print(Person.name)"
   ]
  },
  {
   "cell_type": "code",
   "execution_count": 23,
   "metadata": {},
   "outputs": [
    {
     "data": {
      "text/html": [
       "\n",
       "        <iframe\n",
       "            width=\"100%\"\n",
       "            height=\"500px\"\n",
       "            src=\"http://bit.do/oop_instro_00\"\n",
       "            frameborder=\"0\"\n",
       "            allowfullscreen\n",
       "        ></iframe>\n",
       "        "
      ],
      "text/plain": [
       "<IPython.lib.display.IFrame at 0x23e5270ee10>"
      ]
     },
     "execution_count": 23,
     "metadata": {},
     "output_type": "execute_result"
    }
   ],
   "source": [
    "# python tutor 를 통해 확인해 봅시다.( 할당되는 것 확인해보기 )\n",
    "from IPython.display import IFrame\n",
    "IFrame('http://bit.do/oop_instro_00', width='100%', height='500px')"
   ]
  },
  {
   "cell_type": "markdown",
   "metadata": {},
   "source": [
    "## 생성자 / 소멸자\n",
    "\n",
    "* 생성자\n",
    "    - 인스턴스 객체가 생성될 때 호출되는 함수.\n",
    "    - 인스턴스가 생성될 때 인스턴스의 속성을 정의할 수 있다.\n",
    "    \n",
    "    \n",
    "* 소멸자\n",
    "    - 인스턴스 객체가 소멸(파괴)되기 직전에 호출되는 함수.\n",
    "\n",
    "\n",
    "```python\n",
    "def __init__(self):\n",
    "    print('생성될 때 자동으로 호출되는 메서드입니다.')\n",
    "    \n",
    "def __del__(self):\n",
    "    print('소멸될 때 자동으로 호출되는 메서드입니다.')\n",
    "```\n",
    "\n",
    "\n",
    "위의 형식처럼 양쪽에 언더스코어가 있는 메서드는 특별한 일을 하기 위해 만들어진 메서드이기 때문에 `스페셜 메서드` 혹은 `매직 메서드`라고 불립니다.\n",
    "\n",
    "\n",
    "- 매직(스페셜) 메서드 형태: `__someting__`"
   ]
  },
  {
   "cell_type": "code",
   "execution_count": null,
   "metadata": {},
   "outputs": [],
   "source": [
    "# 생성자와 소멸자를 만들어봅시다."
   ]
  },
  {
   "cell_type": "code",
   "execution_count": 24,
   "metadata": {},
   "outputs": [],
   "source": [
    "#\n",
    "class Person:\n",
    "    def __init__(self):\n",
    "        print('응애!')\n",
    "        \n",
    "    def __del__(self):\n",
    "        print('안녕...')"
   ]
  },
  {
   "cell_type": "code",
   "execution_count": null,
   "metadata": {},
   "outputs": [],
   "source": [
    "# 생성해 봅시다."
   ]
  },
  {
   "cell_type": "code",
   "execution_count": 25,
   "metadata": {},
   "outputs": [
    {
     "name": "stdout",
     "output_type": "stream",
     "text": [
      "응애!\n"
     ]
    }
   ],
   "source": [
    "#\\\n",
    "p3 = Person()"
   ]
  },
  {
   "cell_type": "code",
   "execution_count": null,
   "metadata": {},
   "outputs": [],
   "source": [
    "# 소멸시켜 봅시다."
   ]
  },
  {
   "cell_type": "code",
   "execution_count": 26,
   "metadata": {},
   "outputs": [
    {
     "name": "stdout",
     "output_type": "stream",
     "text": [
      "안녕...\n"
     ]
    }
   ],
   "source": [
    "#\n",
    "del p3"
   ]
  },
  {
   "cell_type": "code",
   "execution_count": null,
   "metadata": {},
   "outputs": [],
   "source": [
    "# 생성자 역시 메서드(함수)기 때문에 추가인자를 받을 수 있습니다."
   ]
  },
  {
   "cell_type": "code",
   "execution_count": 27,
   "metadata": {},
   "outputs": [],
   "source": [
    "#\n",
    "class Person:\n",
    "    def __init__(self, name):#name추가\n",
    "        self.name = name #self는 인스턴스 이건 인스턴스의 name 속성/ 이건 초기화시키는거/생성자웅앵은 __new__ + 이거... (초기화할당)\n",
    "        print(f'응애! 나는 {self.name}')\n",
    "        \n",
    "    def __del__(self):\n",
    "        print(f'{self.name}은 떠난다.. 안녕...')"
   ]
  },
  {
   "cell_type": "code",
   "execution_count": null,
   "metadata": {},
   "outputs": [],
   "source": [
    "# 생성과 동시에 인스턴스 변수에 값을 할당합니다."
   ]
  },
  {
   "cell_type": "code",
   "execution_count": 28,
   "metadata": {
    "scrolled": true
   },
   "outputs": [
    {
     "name": "stdout",
     "output_type": "stream",
     "text": [
      "응애! 나는 justin\n"
     ]
    }
   ],
   "source": [
    "#\n",
    "# me= Person() # error\n",
    "me = Person('justin') #클래스로부트 인스턴스를 만들면 self인자를 넘겨줌 -> "
   ]
  },
  {
   "cell_type": "code",
   "execution_count": null,
   "metadata": {},
   "outputs": [],
   "source": [
    "#\n",
    "me = Person('jason') # 덮어쓰기 됨"
   ]
  },
  {
   "cell_type": "code",
   "execution_count": null,
   "metadata": {},
   "outputs": [],
   "source": [
    "# 추가 - \n",
    "help(str)"
   ]
  },
  {
   "cell_type": "code",
   "execution_count": null,
   "metadata": {},
   "outputs": [],
   "source": [
    "'abc' + 'def'"
   ]
  },
  {
   "cell_type": "code",
   "execution_count": null,
   "metadata": {},
   "outputs": [],
   "source": [
    "'abc'.__add__('def') # 실제 내부구현"
   ]
  },
  {
   "cell_type": "markdown",
   "metadata": {},
   "source": [
    "# 실습"
   ]
  },
  {
   "cell_type": "markdown",
   "metadata": {},
   "source": [
    "## Stack\n",
    "\n",
    "> 위에서 작성한 Mylist class는 완벽하지 않았습니다.\n",
    ">\n",
    "> data 변수에 담긴 list는 class 속성으로서 모든 인스턴스에서 공유되었기 때문에 인스턴스 만의 고유한 data를 갖지 못했습니다.\n",
    ">\n",
    "> `__init__` 생성자 메서드를 활용해 클래스 `Stack`을 작성하세요.\n",
    ">\n",
    "> [Stack](https://ko.wikipedia.org/wiki/%EC%8A%A4%ED%83%9D) : 스택은 LIFO(Last in First Out)으로 구조화된 자료구조를 뜻합니다.\n",
    "\n",
    "**class의 메서드는 아래와 같습니다.**\n",
    "1. `__init__()`: 인스턴스가 생성될 때 빈 리스트를 각 인스턴스의 이름 공간에 넣는다.\n",
    "\n",
    "2. `empty()`: 스택이 비었다면 True을 반환하고, 그렇지 않다면 False를 반환한다.\n",
    "\n",
    "3. `top()`: 스택의 가장 마지막 데이터를 반환한다. 스택이 비었다면 None을 반환한다.\n",
    "\n",
    "4. `pop()`: 스택의 가장 마지막 데이터의 값을 반환하고, 해당 데이터를 삭제한다. 스택이 비었다면 None을 반환한다.\n",
    "\n",
    "5. `push()`: 스택의 가장 마지막 데이터 뒤에 값을 추가한다. 반환값은 없다.\n",
    "\n",
    "6. `__repr__`: 현재 스택의 요소들을 보여준다."
   ]
  },
  {
   "cell_type": "code",
   "execution_count": null,
   "metadata": {},
   "outputs": [],
   "source": [
    "# 여기에 코드를 작성해주세요."
   ]
  },
  {
   "cell_type": "code",
   "execution_count": null,
   "metadata": {},
   "outputs": [],
   "source": [
    "#\n",
    "class Stack:\n",
    "    def __init__(self): # 그 인스턴스가 self\n",
    "        self.items = []\n",
    "        \n",
    "    def empty(self):\n",
    "        return not bool(self.items) # 비어있으면 True 구현\n",
    "\n",
    "    def pop(self):\n",
    "        if not self.empty():\n",
    "            return self.items.pop()\n",
    "\n",
    "    def push(self, elem):\n",
    "        self.items.append(elem)\n",
    "\n",
    "    def top(self):\n",
    "        if self.items:\n",
    "            return self.items[-1]\n",
    "\n",
    "    # 객체 자체가 리턴하는 값    \n",
    "    def __repr__(self):\n",
    "        return '\\n'.join(map(str, self.items))\n",
    "\n",
    "    # 객체를 print했을 때 나오는 값\n",
    "    def __str__(self):\n",
    "        return '|'.join(map(str, self.items))"
   ]
  },
  {
   "cell_type": "code",
   "execution_count": null,
   "metadata": {},
   "outputs": [],
   "source": [
    "# 아래에서 인스턴스를 만들고 메서드를 호출하세요."
   ]
  },
  {
   "cell_type": "code",
   "execution_count": null,
   "metadata": {},
   "outputs": [],
   "source": [
    "#\n",
    "st = Stack()\n",
    "st.empty()"
   ]
  },
  {
   "cell_type": "code",
   "execution_count": null,
   "metadata": {},
   "outputs": [],
   "source": [
    "print(st.top())"
   ]
  },
  {
   "cell_type": "code",
   "execution_count": null,
   "metadata": {},
   "outputs": [],
   "source": [
    "st.push(1)\n",
    "st.items"
   ]
  },
  {
   "cell_type": "code",
   "execution_count": null,
   "metadata": {},
   "outputs": [],
   "source": [
    "st.empty()"
   ]
  },
  {
   "cell_type": "code",
   "execution_count": null,
   "metadata": {},
   "outputs": [],
   "source": [
    "st.push(3)\n",
    "st.push(5)\n",
    "st.push(7)\n",
    "st.push(9)\n",
    "st.items #repr로 실행"
   ]
  },
  {
   "cell_type": "code",
   "execution_count": null,
   "metadata": {},
   "outputs": [],
   "source": [
    "st #객체 자체"
   ]
  },
  {
   "cell_type": "code",
   "execution_count": null,
   "metadata": {},
   "outputs": [],
   "source": [
    "print(st) #str"
   ]
  },
  {
   "cell_type": "code",
   "execution_count": null,
   "metadata": {},
   "outputs": [],
   "source": [
    "st #repr"
   ]
  },
  {
   "cell_type": "markdown",
   "metadata": {},
   "source": [
    "각 셀을 두번 이상 실행하면 원하지 않은 결과가 나올 수 있으니 유의하세요.\n",
    "\n",
    "결과를 [python tutor](http://pythontutor.com/visualize.html#mode=edit)로 다시 한번 확인하세요"
   ]
  },
  {
   "cell_type": "markdown",
   "metadata": {},
   "source": [
    "## Circle\n",
    "\n",
    "> 아래의 조건에 맞는 Circle 클래스를 작성하세요.\n",
    "\n",
    "---\n",
    "\n",
    "**클래스** 속성(모든 인스턴스가 공유)\n",
    "\n",
    "\n",
    "* `pi`: 3.14\n",
    "\n",
    "**인스턴스** 속성 (**인스턴스가 생성되고 초기화 시 필요한 값들**)\n",
    "\n",
    "\n",
    "* `r`: 원의 반지름 (필수 입력)\n",
    "\n",
    "\n",
    "* `x`: x좌표 (default 0)\n",
    "\n",
    "\n",
    "* `y`: y좌표 (default 0)\n",
    "\n",
    "**인스턴스** 메서드\n",
    "\n",
    "\n",
    "* `area()`: 원의 넓이를 반환\n",
    "\n",
    "\n",
    "* `circumference()`: 원의 둘레를 반환\n",
    "\n",
    "\n",
    "* `center()`: 원의 중심인 (x, y) 좌표를 튜플로 반환\n",
    "\n",
    "\n",
    "* `move(x, y)`: 원의 중심인 (x, y) 좌표를 입력받은 값으로 변경하고 변경된 좌표값을 튜플로 반환"
   ]
  },
  {
   "cell_type": "code",
   "execution_count": null,
   "metadata": {},
   "outputs": [],
   "source": [
    "# 아래에 클래스를 작성하세요."
   ]
  },
  {
   "cell_type": "code",
   "execution_count": null,
   "metadata": {},
   "outputs": [],
   "source": [
    "#\n",
    "\n",
    "class Circle:\n",
    "    # 클래스 변수(모든 인스턴스가 공유)\n",
    "    pi = 3.14\n",
    "    # 인스턴스 변수\n",
    "    def __init__(self, r, x=0, y=0):\n",
    "        self.r = r\n",
    "        self.x = x\n",
    "        self.y = y\n",
    "        \n",
    "    # 인스턴스 메서드\n",
    "    def area(self):\n",
    "        return self.r**2 * self.pi #여기는 pi안적어주면 오류남 (다른 이름공간 때문에)\n",
    "    \n",
    "    def circumference(self):\n",
    "        return 2 * self.r * self.pi\n",
    "    \n",
    "    def center(self):\n",
    "        return self.x, self.y\n",
    "    \n",
    "    def move(self, x, y):\n",
    "        self.x = x\n",
    "        self.y = y\n",
    "        return self.x, self.y # tuple형태로 반환"
   ]
  },
  {
   "cell_type": "code",
   "execution_count": null,
   "metadata": {},
   "outputs": [],
   "source": [
    "# 아래에서 인스턴스를 만들고 메서드를 호출하세요."
   ]
  },
  {
   "cell_type": "code",
   "execution_count": null,
   "metadata": {},
   "outputs": [],
   "source": [
    "#\n",
    "# c1 = Circle() #이대로하면 오류\n",
    "c1 = Circle(3)\n",
    "c1.center()"
   ]
  },
  {
   "cell_type": "code",
   "execution_count": null,
   "metadata": {},
   "outputs": [],
   "source": [
    "c1.move(3, 3)"
   ]
  },
  {
   "cell_type": "code",
   "execution_count": null,
   "metadata": {},
   "outputs": [],
   "source": [
    "c1.area()"
   ]
  },
  {
   "cell_type": "code",
   "execution_count": null,
   "metadata": {},
   "outputs": [],
   "source": [
    "c1.circumference()"
   ]
  },
  {
   "cell_type": "code",
   "execution_count": null,
   "metadata": {},
   "outputs": [],
   "source": [
    "c2 = Circle(2, 5, 5)\n",
    "c2.center()"
   ]
  },
  {
   "cell_type": "code",
   "execution_count": null,
   "metadata": {},
   "outputs": [],
   "source": [
    "c2.circumference()"
   ]
  },
  {
   "cell_type": "code",
   "execution_count": null,
   "metadata": {},
   "outputs": [],
   "source": [
    "c2.area()"
   ]
  }
 ],
 "metadata": {
  "kernelspec": {
   "display_name": "Python 3",
   "language": "python",
   "name": "python3"
  },
  "language_info": {
   "codemirror_mode": {
    "name": "ipython",
    "version": 3
   },
   "file_extension": ".py",
   "mimetype": "text/x-python",
   "name": "python",
   "nbconvert_exporter": "python",
   "pygments_lexer": "ipython3",
   "version": "3.7.3"
  },
  "latex_envs": {
   "LaTeX_envs_menu_present": true,
   "autoclose": false,
   "autocomplete": true,
   "bibliofile": "biblio.bib",
   "cite_by": "apalike",
   "current_citInitial": 1,
   "eqLabelWithNumbers": true,
   "eqNumInitial": 1,
   "hotkeys": {
    "equation": "Ctrl-E",
    "itemize": "Ctrl-I"
   },
   "labels_anchors": false,
   "latex_user_defs": false,
   "report_style_numbering": false,
   "user_envs_cfg": false
  },
  "toc": {
   "base_numbering": 1,
   "nav_menu": {},
   "number_sections": true,
   "sideBar": true,
   "skip_h1_title": false,
   "title_cell": "Table of Contents",
   "title_sidebar": "Contents",
   "toc_cell": false,
   "toc_position": {
    "height": "calc(100% - 180px)",
    "left": "10px",
    "top": "150px",
    "width": "336px"
   },
   "toc_section_display": true,
   "toc_window_display": false
  }
 },
 "nbformat": 4,
 "nbformat_minor": 2
}
